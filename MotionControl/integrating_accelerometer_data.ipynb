{
 "cells": [
  {
   "cell_type": "markdown",
   "metadata": {},
   "source": [
    "# Integrating Accelerometer Data\n",
    "In the last lesson, I gave you code for a `get_derivative_from_data` function and then later asked you to implement it yourself. We'll be doing something similar for `get_integral_from_data` here."
   ]
  },
  {
   "cell_type": "markdown",
   "metadata": {},
   "source": [
    "----"
   ]
  },
  {
   "cell_type": "markdown",
   "metadata": {},
   "source": [
    "## Part 1 - Refamiliarize x(t) --> v(t) --> a(t)\n",
    "First, refamiliarize yourself with what you did last lesson"
   ]
  },
  {
   "cell_type": "code",
   "execution_count": 2,
   "metadata": {},
   "outputs": [],
   "source": [
    "from helpers import process_data, get_derivative_from_data\n",
    "from matplotlib import pyplot as plt\n",
    "\n",
    "PARALLEL_PARK_DATA = process_data(\"parallel_park.pickle\")\n",
    "\n",
    "TIMESTAMPS    = [row[0] for row in PARALLEL_PARK_DATA]\n",
    "DISPLACEMENTS = [row[1] for row in PARALLEL_PARK_DATA]\n",
    "YAW_RATES     = [row[2] for row in PARALLEL_PARK_DATA]\n",
    "ACCELERATIONS = [row[3] for row in PARALLEL_PARK_DATA]"
   ]
  },
  {
   "cell_type": "code",
   "execution_count": 3,
   "metadata": {},
   "outputs": [
    {
     "data": {
      "image/png": "[encoded data removed]",
      "text/plain": [
       "<matplotlib.figure.Figure at 0x7fe1651e3438>"
      ]
     },
     "metadata": {
      "needs_background": "light"
     },
     "output_type": "display_data"
    }
   ],
   "source": [
    "# You saw this plot of displacement versus time.\n",
    "\n",
    "plt.title(\"Displacement vs Time while Parallel Parking\")\n",
    "plt.xlabel(\"Time (seconds)\")\n",
    "plt.ylabel(\"Displacement (meters)\")\n",
    "plt.scatter(TIMESTAMPS, DISPLACEMENTS)\n",
    "plt.show()"
   ]
  },
  {
   "cell_type": "code",
   "execution_count": null,
   "metadata": {},
   "outputs": [],
   "source": [
    "# and you saw how you could differentiate this data\n",
    "# to get velocity vs time\n",
    "\n",
    "speeds = get_derivative_from_data(DISPLACEMENTS, TIMESTAMPS)\n",
    "\n",
    "plt.title(\"Speed vs Time while Parallel Parking\")\n",
    "plt.xlabel(\"Time (seconds)\")\n",
    "plt.ylabel(\"Speed (m / s)\")\n",
    "plt.scatter(TIMESTAMPS[1:], speeds)\n",
    "plt.show()"
   ]
  },
  {
   "cell_type": "code",
   "execution_count": null,
   "metadata": {},
   "outputs": [],
   "source": [
    "# AND you saw how you could differentiate velocity data\n",
    "# to get acceleration data...\n",
    "\n",
    "accels = get_derivative_from_data(speeds, TIMESTAMPS[1:])\n",
    "\n",
    "plt.title(\"Acceleration vs Time while Parallel Parking\")\n",
    "plt.xlabel(\"Time (seconds)\")\n",
    "plt.ylabel(\"Acceleration (m / s / s)\")\n",
    "plt.scatter(TIMESTAMPS[2:], accels)\n",
    "plt.show()"
   ]
  },
  {
   "cell_type": "markdown",
   "metadata": {},
   "source": [
    "## Part 2 - The Other Way: a(t) --> v(t) --> x(t)\n",
    "Now we're going to use the integral to go from acceleration data back to position data. First, let's plot the raw accelerometer data and compare it to the graph immediately above this cell."
   ]
  },
  {
   "cell_type": "code",
   "execution_count": 4,
   "metadata": {},
   "outputs": [
    {
     "data": {
      "image/png": "[encoded data removed]",
      "text/plain": [
       "<matplotlib.figure.Figure at 0x7fe162f12780>"
      ]
     },
     "metadata": {
      "needs_background": "light"
     },
     "output_type": "display_data"
    }
   ],
   "source": [
    "plt.title(\"Acceleration vs Time while Parallel Parking\")\n",
    "plt.xlabel(\"Time (seconds)\")\n",
    "plt.ylabel(\"Acceleration (m / s / s)\")\n",
    "plt.scatter(TIMESTAMPS, ACCELERATIONS)\n",
    "plt.show()"
   ]
  },
  {
   "cell_type": "markdown",
   "metadata": {},
   "source": [
    "As you can see they look pretty much identical... there is some missing data though that got lost in the differentiation step right near the beginning of this time window. \n",
    "\n",
    "Now I'm going to show you a `get_integral_from_data` function. Read through the code and try to understand it because in a later notebook you will be asked to implement it yourself (without looking back here if possible)."
   ]
  },
  {
   "cell_type": "code",
   "execution_count": 1,
   "metadata": {},
   "outputs": [
    {
     "ename": "NameError",
     "evalue": "name 'ACCELERATIONS' is not defined",
     "output_type": "error",
     "traceback": [
      "\u001b[0;31m---------------------------------------------------------------------------\u001b[0m",
      "\u001b[0;31mNameError\u001b[0m                                 Traceback (most recent call last)",
      "\u001b[0;32m<ipython-input-1-60ffa4b01478>\u001b[0m in \u001b[0;36m<module>\u001b[0;34m()\u001b[0m\n\u001b[1;32m     33\u001b[0m \u001b[0;34m\u001b[0m\u001b[0m\n\u001b[1;32m     34\u001b[0m \u001b[0;31m# 9. Now we use the function we just defined\u001b[0m\u001b[0;34m\u001b[0m\u001b[0;34m\u001b[0m\u001b[0m\n\u001b[0;32m---> 35\u001b[0;31m \u001b[0mintegrated_speeds\u001b[0m \u001b[0;34m=\u001b[0m \u001b[0mget_integral_from_data\u001b[0m\u001b[0;34m(\u001b[0m\u001b[0mACCELERATIONS\u001b[0m\u001b[0;34m,\u001b[0m \u001b[0mTIMESTAMPS\u001b[0m\u001b[0;34m)\u001b[0m\u001b[0;34m\u001b[0m\u001b[0m\n\u001b[0m\u001b[1;32m     36\u001b[0m \u001b[0;34m\u001b[0m\u001b[0m\n\u001b[1;32m     37\u001b[0m \u001b[0;31m# 10. Plot\u001b[0m\u001b[0;34m\u001b[0m\u001b[0;34m\u001b[0m\u001b[0m\n",
      "\u001b[0;31mNameError\u001b[0m: name 'ACCELERATIONS' is not defined"
     ]
    }
   ],
   "source": [
    "def get_integral_from_data(acceleration_data, times):\n",
    "    # 1. We will need to keep track of the total accumulated speed\n",
    "    accumulated_speed = 0.0\n",
    "    \n",
    "    # 2. The next lines should look familiar from the derivative code\n",
    "    last_time = times[0]\n",
    "    speeds = []\n",
    "    \n",
    "    # 3. Once again, we lose some data because we have to start\n",
    "    #    at i=1 instead of i=0.\n",
    "    for i in range(1, len(times)):\n",
    "        \n",
    "        # 4. Get the numbers for this index i\n",
    "        acceleration = acceleration_data[i]\n",
    "        time = times[i]\n",
    "        \n",
    "        # 5. Calculate delta t\n",
    "        delta_t = time - last_time\n",
    "        \n",
    "        # 6. This is an important step! This is where we approximate\n",
    "        #    the area under the curve using a rectangle w/ width of\n",
    "        #    delta_t.\n",
    "        delta_v = acceleration * delta_t\n",
    "        \n",
    "        # 7. The actual speed now is whatever the speed was before\n",
    "        #    plus the new change in speed.\n",
    "        accumulated_speed += delta_v\n",
    "        \n",
    "        # 8. append to speeds and update last_time\n",
    "        speeds.append(accumulated_speed)\n",
    "        last_time = time\n",
    "    return speeds\n",
    "\n",
    "# 9. Now we use the function we just defined\n",
    "integrated_speeds = get_integral_from_data(ACCELERATIONS, TIMESTAMPS)\n",
    "\n",
    "# 10. Plot\n",
    "plt.scatter(TIMESTAMPS[1:], integrated_speeds)\n",
    "plt.show()"
   ]
  },
  {
   "cell_type": "markdown",
   "metadata": {},
   "source": [
    "Does that graph look familiar? Scroll up and compare this to the graph that came from **differentiating** position vs time. How similar does it look to the graph we JUST made by **integrating** acceleration vs time?\n",
    "\n",
    "#### Code walkthrough\n",
    "\n",
    "**1 -** We're going to be summing up the area of lots of little rectangles. Each of those little rectangles will contribute to the total accumulated area (which represents speed when integrating acceleration data).\n",
    "\n",
    "**2 - 5 -** These should look familiar. You saw similar code in the `get_derivative_from_data` function\n",
    "\n",
    "**6 -** This $\\Delta v$ is the little bit of area in whatever rectangle we are calculating in this iteration of the loop.\n",
    "\n",
    "**7 -** We add this $\\Delta v$ to the total accumulated velocity.\n",
    "\n",
    "**8 - 10 -** This should look familiar"
   ]
  },
  {
   "cell_type": "code",
   "execution_count": null,
   "metadata": {},
   "outputs": [],
   "source": [
    "# Integrate AGAIN! Let's see what happens when we integrate \n",
    "# again to get displacement data...\n",
    "\n",
    "integrated_displacements = get_integral_from_data(integrated_speeds, \n",
    "                                                 TIMESTAMPS[1:])\n",
    "plt.scatter(TIMESTAMPS[2:], integrated_displacements)\n",
    "plt.show()"
   ]
  },
  {
   "cell_type": "markdown",
   "metadata": {},
   "source": [
    "## What to Remember\n",
    "\n",
    "Once again, don't try to memorize this code! The key thing to remember is this:\n",
    "\n",
    "> An integral accumulates change by calculating the area of lots of little rectangles and summing them up."
   ]
  }
 ],
 "metadata": {
  "kernelspec": {
   "display_name": "Python 3",
   "language": "python",
   "name": "python3"
  },
  "language_info": {
   "codemirror_mode": {
    "name": "ipython",
    "version": 3
   },
   "file_extension": ".py",
   "mimetype": "text/x-python",
   "name": "python",
   "nbconvert_exporter": "python",
   "pygments_lexer": "ipython3",
   "version": "3.6.3"
  }
 },
 "nbformat": 4,
 "nbformat_minor": 2
}
